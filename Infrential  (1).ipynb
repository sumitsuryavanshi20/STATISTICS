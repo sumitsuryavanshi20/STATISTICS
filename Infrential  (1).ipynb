{
 "cells": [
  {
   "cell_type": "markdown",
   "id": "0fb2ba44-add9-4830-8493-064d4550f70c",
   "metadata": {},
   "source": [
    "STATISTICS"
   ]
  },
  {
   "cell_type": "code",
   "execution_count": 159,
   "id": "b3069d62-a820-46cd-abab-70799f4f9f00",
   "metadata": {},
   "outputs": [],
   "source": [
    "import pandas as pd\n",
    "from scipy import stats"
   ]
  },
  {
   "cell_type": "code",
   "execution_count": 149,
   "id": "0017e0c7-8e7e-40e6-9b35-21432dd4546d",
   "metadata": {},
   "outputs": [
    {
     "data": {
      "text/html": [
       "<div>\n",
       "<style scoped>\n",
       "    .dataframe tbody tr th:only-of-type {\n",
       "        vertical-align: middle;\n",
       "    }\n",
       "\n",
       "    .dataframe tbody tr th {\n",
       "        vertical-align: top;\n",
       "    }\n",
       "\n",
       "    .dataframe thead th {\n",
       "        text-align: right;\n",
       "    }\n",
       "</style>\n",
       "<table border=\"1\" class=\"dataframe\">\n",
       "  <thead>\n",
       "    <tr style=\"text-align: right;\">\n",
       "      <th></th>\n",
       "      <th>Pregnancies</th>\n",
       "      <th>Glucose</th>\n",
       "      <th>BloodPressure</th>\n",
       "      <th>SkinThickness</th>\n",
       "      <th>Insulin</th>\n",
       "      <th>BMI</th>\n",
       "      <th>DiabetesPedigreeFunction</th>\n",
       "      <th>Age</th>\n",
       "      <th>Outcome</th>\n",
       "    </tr>\n",
       "  </thead>\n",
       "  <tbody>\n",
       "    <tr>\n",
       "      <th>0</th>\n",
       "      <td>6</td>\n",
       "      <td>148</td>\n",
       "      <td>72</td>\n",
       "      <td>35</td>\n",
       "      <td>0</td>\n",
       "      <td>33.6</td>\n",
       "      <td>0.627</td>\n",
       "      <td>50</td>\n",
       "      <td>1</td>\n",
       "    </tr>\n",
       "    <tr>\n",
       "      <th>1</th>\n",
       "      <td>1</td>\n",
       "      <td>85</td>\n",
       "      <td>66</td>\n",
       "      <td>29</td>\n",
       "      <td>0</td>\n",
       "      <td>26.6</td>\n",
       "      <td>0.351</td>\n",
       "      <td>31</td>\n",
       "      <td>0</td>\n",
       "    </tr>\n",
       "    <tr>\n",
       "      <th>2</th>\n",
       "      <td>8</td>\n",
       "      <td>183</td>\n",
       "      <td>64</td>\n",
       "      <td>0</td>\n",
       "      <td>0</td>\n",
       "      <td>23.3</td>\n",
       "      <td>0.672</td>\n",
       "      <td>32</td>\n",
       "      <td>1</td>\n",
       "    </tr>\n",
       "    <tr>\n",
       "      <th>3</th>\n",
       "      <td>1</td>\n",
       "      <td>89</td>\n",
       "      <td>66</td>\n",
       "      <td>23</td>\n",
       "      <td>94</td>\n",
       "      <td>28.1</td>\n",
       "      <td>0.167</td>\n",
       "      <td>21</td>\n",
       "      <td>0</td>\n",
       "    </tr>\n",
       "    <tr>\n",
       "      <th>4</th>\n",
       "      <td>0</td>\n",
       "      <td>137</td>\n",
       "      <td>40</td>\n",
       "      <td>35</td>\n",
       "      <td>168</td>\n",
       "      <td>43.1</td>\n",
       "      <td>2.288</td>\n",
       "      <td>33</td>\n",
       "      <td>1</td>\n",
       "    </tr>\n",
       "    <tr>\n",
       "      <th>...</th>\n",
       "      <td>...</td>\n",
       "      <td>...</td>\n",
       "      <td>...</td>\n",
       "      <td>...</td>\n",
       "      <td>...</td>\n",
       "      <td>...</td>\n",
       "      <td>...</td>\n",
       "      <td>...</td>\n",
       "      <td>...</td>\n",
       "    </tr>\n",
       "    <tr>\n",
       "      <th>763</th>\n",
       "      <td>10</td>\n",
       "      <td>101</td>\n",
       "      <td>76</td>\n",
       "      <td>48</td>\n",
       "      <td>180</td>\n",
       "      <td>32.9</td>\n",
       "      <td>0.171</td>\n",
       "      <td>63</td>\n",
       "      <td>0</td>\n",
       "    </tr>\n",
       "    <tr>\n",
       "      <th>764</th>\n",
       "      <td>2</td>\n",
       "      <td>122</td>\n",
       "      <td>70</td>\n",
       "      <td>27</td>\n",
       "      <td>0</td>\n",
       "      <td>36.8</td>\n",
       "      <td>0.340</td>\n",
       "      <td>27</td>\n",
       "      <td>0</td>\n",
       "    </tr>\n",
       "    <tr>\n",
       "      <th>765</th>\n",
       "      <td>5</td>\n",
       "      <td>121</td>\n",
       "      <td>72</td>\n",
       "      <td>23</td>\n",
       "      <td>112</td>\n",
       "      <td>26.2</td>\n",
       "      <td>0.245</td>\n",
       "      <td>30</td>\n",
       "      <td>0</td>\n",
       "    </tr>\n",
       "    <tr>\n",
       "      <th>766</th>\n",
       "      <td>1</td>\n",
       "      <td>126</td>\n",
       "      <td>60</td>\n",
       "      <td>0</td>\n",
       "      <td>0</td>\n",
       "      <td>30.1</td>\n",
       "      <td>0.349</td>\n",
       "      <td>47</td>\n",
       "      <td>1</td>\n",
       "    </tr>\n",
       "    <tr>\n",
       "      <th>767</th>\n",
       "      <td>1</td>\n",
       "      <td>93</td>\n",
       "      <td>70</td>\n",
       "      <td>31</td>\n",
       "      <td>0</td>\n",
       "      <td>30.4</td>\n",
       "      <td>0.315</td>\n",
       "      <td>23</td>\n",
       "      <td>0</td>\n",
       "    </tr>\n",
       "  </tbody>\n",
       "</table>\n",
       "<p>768 rows × 9 columns</p>\n",
       "</div>"
      ],
      "text/plain": [
       "     Pregnancies  Glucose  BloodPressure  SkinThickness  Insulin   BMI  \\\n",
       "0              6      148             72             35        0  33.6   \n",
       "1              1       85             66             29        0  26.6   \n",
       "2              8      183             64              0        0  23.3   \n",
       "3              1       89             66             23       94  28.1   \n",
       "4              0      137             40             35      168  43.1   \n",
       "..           ...      ...            ...            ...      ...   ...   \n",
       "763           10      101             76             48      180  32.9   \n",
       "764            2      122             70             27        0  36.8   \n",
       "765            5      121             72             23      112  26.2   \n",
       "766            1      126             60              0        0  30.1   \n",
       "767            1       93             70             31        0  30.4   \n",
       "\n",
       "     DiabetesPedigreeFunction  Age  Outcome  \n",
       "0                       0.627   50        1  \n",
       "1                       0.351   31        0  \n",
       "2                       0.672   32        1  \n",
       "3                       0.167   21        0  \n",
       "4                       2.288   33        1  \n",
       "..                        ...  ...      ...  \n",
       "763                     0.171   63        0  \n",
       "764                     0.340   27        0  \n",
       "765                     0.245   30        0  \n",
       "766                     0.349   47        1  \n",
       "767                     0.315   23        0  \n",
       "\n",
       "[768 rows x 9 columns]"
      ]
     },
     "execution_count": 149,
     "metadata": {},
     "output_type": "execute_result"
    }
   ],
   "source": [
    "x = pd.read_csv(\"diabetes.csv\")\n",
    "x "
   ]
  },
  {
   "cell_type": "markdown",
   "id": "8fc7187c-a05d-4fed-8e36-f2b49c047830",
   "metadata": {},
   "source": [
    "One-Sample t-Test\n",
    "Purpose: Tests whether the mean of a single sample.\n",
    "When to Use:\n",
    "You have one group of data and a specific value (population mean) you want to compare it against.\n",
    "Example: Testing whether the average age of patients is 33 years"
   ]
  },
  {
   "cell_type": "code",
   "execution_count": 169,
   "id": "1d489dbf-89fe-4584-8650-051112ed3373",
   "metadata": {},
   "outputs": [],
   "source": [
    "data = x[\"Age\"].dropna().values"
   ]
  },
  {
   "cell_type": "code",
   "execution_count": 175,
   "id": "f5cfadc4-92d1-44b2-a5ae-2c408cefb98c",
   "metadata": {},
   "outputs": [
    {
     "name": "stdout",
     "output_type": "stream",
     "text": [
      "p_value: 0.5909210201475481\n",
      "The mean of the sample is the same as the assumed mean.\n"
     ]
    }
   ],
   "source": [
    "import pandas as pd\n",
    "from scipy import stats\n",
    "\n",
    "# Example DataFrame\n",
    "data = pd.DataFrame({\"Age\": [28, 35, 40, 25, 50]})\n",
    "\n",
    "# Extract 'Age' values and drop NaN\n",
    "x = data[\"Age\"].dropna().values\n",
    "\n",
    "# Assumed population mean\n",
    "mean = 33\n",
    "\n",
    "# Perform one-sample t-test\n",
    "t_stat, p_value = stats.ttest_1samp(x, mean)\n",
    "\n",
    "# Print p-value and conclusion\n",
    "print(\"p_value:\", p_value)\n",
    "if p_value > 0.05:\n",
    "    print(\"The mean of the sample is the same as the assumed mean.\")\n",
    "else:\n",
    "    print(\"The mean of the sample is not the same as the assumed mean.\")\n"
   ]
  },
  {
   "cell_type": "markdown",
   "id": "001d0bf3-d478-46fe-bdd5-5d1559357adf",
   "metadata": {},
   "source": [
    "Two-Sample t-Test (Independent t-Test)\n",
    "Purpose: Compares the means of two independent groups to see if there is a significant difference between thefrom scipy.stats import ttest_ind\n",
    "When to use:\n",
    "Example: Comparing the average test scores of students from two different schools"
   ]
  },
  {
   "cell_type": "code",
   "execution_count": 177,
   "id": "dd4fd56a-3a1e-4020-af33-06cd16382d34",
   "metadata": {},
   "outputs": [
    {
     "name": "stdout",
     "output_type": "stream",
     "text": [
      "p-value: 3.320952307370099e-07\n",
      "Both means are different (reject null hypothesis).\n"
     ]
    }
   ],
   "source": [
    "import pandas as pd\n",
    "from scipy.stats import ttest_ind\n",
    "\n",
    "# Example DataFrame\n",
    "data = pd.DataFrame({\n",
    "    \"Age\": [28, 35, 40, 25, 50],\n",
    "    \"BloodPressure\": [120, 125, 130, 118, 140]\n",
    "})\n",
    "\n",
    "# Clean data and extract values\n",
    "x = data[\"Age\"].dropna().values\n",
    "y = data[\"BloodPressure\"].dropna().values\n",
    "\n",
    "# Perform a two-sample t-test\n",
    "t_stat, p_value = ttest_ind(x, y)\n",
    "\n",
    "# Print p-value and conclusion\n",
    "print(\"p-value:\", p_value)\n",
    "if p_value > 0.05:\n",
    "    print(\"Both means are the same (fail to reject null hypothesis).\")\n",
    "else:\n",
    "    print(\"Both means are different (reject null hypothesis).\")\n"
   ]
  },
  {
   "cell_type": "markdown",
   "id": "0cfce103-e979-4f66-aa55-028b5f48ce8e",
   "metadata": {},
   "source": [
    "Paired t-Test (Dependent t-Test)\n",
    "Purpose: Compares the means of two related samples (before and after, or paired data).\n",
    "When to use:\n",
    "Example: Measuring weight loss before and after a fitness program for the same individuals."
   ]
  },
  {
   "cell_type": "code",
   "execution_count": 179,
   "id": "f94edc7d-a9be-4a8b-865a-f1a1329460b8",
   "metadata": {},
   "outputs": [
    {
     "name": "stdout",
     "output_type": "stream",
     "text": [
      "p-value: 1.0\n",
      "The mean of the sample is not significantly different (fail to reject the null hypothesis).\n"
     ]
    }
   ],
   "source": [
    "from scipy.stats import ttest_rel\n",
    "\n",
    "# Replace these with actual numerical data\n",
    "x = [25, 30, 35, 40, 45]  # Example: Before\n",
    "y = [27, 29, 34, 39, 46]  # Example: After\n",
    "\n",
    "# Perform a dependent t-test (paired t-test)\n",
    "stats, p_value = ttest_rel(x, y)\n",
    "\n",
    "print(\"p-value:\", p_value)\n",
    "#print(\"test stats is:\", stats)  # Uncomment to view the test statistic\n",
    "\n",
    "# Interpret the results\n",
    "if p_value > 0.05:\n",
    "    print(\"The mean of the sample is not significantly different (fail to reject the null hypothesis).\")\n",
    "else:\n",
    "    print(\"The mean of the sample is significantly different (reject the null hypothesis).\")"
   ]
  },
  {
   "cell_type": "markdown",
   "id": "1ba9c8a0-2822-4672-84b4-057e2a0e108d",
   "metadata": {},
   "source": [
    "one sample Z-test"
   ]
  },
  {
   "cell_type": "code",
   "execution_count": 181,
   "id": "dfc067d5-345a-4b37-aebe-517850e720a1",
   "metadata": {},
   "outputs": [
    {
     "name": "stdout",
     "output_type": "stream",
     "text": [
      "Z-score: 1.4142135623730951\n",
      "P-value: 0.157299207050285\n",
      "Fail to reject the null hypothesis: The mean is 170 cm.\n"
     ]
    }
   ],
   "source": [
    "import numpy as np\n",
    "from scipy.stats import norm\n",
    "\n",
    "# Sample data\n",
    "sample_mean = 172\n",
    "population_mean = 170\n",
    "population_std = 10\n",
    "n = 50\n",
    "\n",
    "# Calculate Z-score\n",
    "z_score = (sample_mean - population_mean) / (population_std / np.sqrt(n))\n",
    "\n",
    "# Calculate p-value (two-tailed test)\n",
    "p_value = 2 * (1 - norm.cdf(abs(z_score)))\n",
    "\n",
    "print(f\"Z-score: {z_score}\")\n",
    "print(f\"P-value: {p_value}\")\n",
    "\n",
    "# Decision\n",
    "alpha = 0.05\n",
    "if p_value < alpha:\n",
    "    print(\"Reject the null hypothesis: The mean is not 170 cm.\")\n",
    "else:\n",
    "    print(\"Fail to reject the null hypothesis: The mean is 170 cm.\")\n"
   ]
  },
  {
   "cell_type": "code",
   "execution_count": null,
   "id": "648e5a15-6369-4e99-bc5c-f80ae210afa9",
   "metadata": {},
   "outputs": [],
   "source": [
    "ANOVA"
   ]
  },
  {
   "cell_type": "code",
   "execution_count": 183,
   "id": "9acd9041-ab25-423c-8bb9-cc07cd2b67b2",
   "metadata": {},
   "outputs": [
    {
     "name": "stdout",
     "output_type": "stream",
     "text": [
      "F-statistic: 32.0\n",
      "P-value: 1.549551171121654e-05\n",
      "Reject the null hypothesis: At least one group mean is different.\n"
     ]
    }
   ],
   "source": [
    "import numpy as np\n",
    "from scipy.stats import f_oneway\n",
    "\n",
    "# Data: Heights of plants under different treatments\n",
    "group1 = [20, 21, 19, 18, 22]  # Treatment A\n",
    "group2 = [30, 28, 27, 26, 29]  # Treatment B\n",
    "group3 = [25, 24, 23, 22, 26]  # Treatment C\n",
    "\n",
    "# Perform One-Way ANOVA\n",
    "f_stat, p_value = f_oneway(group1, group2, group3)\n",
    "\n",
    "# Results\n",
    "print(f\"F-statistic: {f_stat}\")\n",
    "print(f\"P-value: {p_value}\")\n",
    "\n",
    "# Decision\n",
    "alpha = 0.05\n",
    "if p_value < alpha:\n",
    "    print(\"Reject the null hypothesis: At least one group mean is different.\")\n",
    "else:\n",
    "    print(\"Fail to reject the null hypothesis: All group means are the same.\")\n"
   ]
  },
  {
   "cell_type": "code",
   "execution_count": null,
   "id": "8866b052-0200-4058-b583-b3a9dab67bbf",
   "metadata": {},
   "outputs": [],
   "source": [
    "Mann-Whitney U in Python:"
   ]
  },
  {
   "cell_type": "code",
   "execution_count": 185,
   "id": "7189d287-ac52-4c0f-a45a-5c180a9017d8",
   "metadata": {},
   "outputs": [
    {
     "name": "stdout",
     "output_type": "stream",
     "text": [
      "U statistic: 0.0\n",
      "P-value: 0.007936507936507936\n",
      "Reject the null hypothesis: The two groups have different distributions.\n"
     ]
    }
   ],
   "source": [
    "from scipy.stats import mannwhitneyu\n",
    "\n",
    "# Example data: Two independent groups\n",
    "group1 = [12, 14, 15, 19, 21]\n",
    "group2 = [22, 24, 30, 35, 40]\n",
    "\n",
    "# Perform the Mann-Whitney U test\n",
    "stat, p_value = mannwhitneyu(group1, group2, alternative='two-sided')\n",
    "\n",
    "# Output results\n",
    "print(f\"U statistic: {stat}\")\n",
    "print(f\"P-value: {p_value}\")\n",
    "\n",
    "# Interpretation\n",
    "alpha = 0.05\n",
    "if p_value < alpha:\n",
    "    print(\"Reject the null hypothesis: The two groups have different distributions.\")\n",
    "else:\n",
    "    print(\"Fail to reject the null hypothesis: The two groups have the same distribution.\")\n"
   ]
  },
  {
   "cell_type": "markdown",
   "id": "18971f38-c577-4dc6-971d-13700d8c203e",
   "metadata": {},
   "source": [
    "Regression analysis slope and intercept"
   ]
  },
  {
   "cell_type": "code",
   "execution_count": 187,
   "id": "30de21a3-0936-46e4-a0c5-ab02f935cacb",
   "metadata": {},
   "outputs": [
    {
     "name": "stdout",
     "output_type": "stream",
     "text": [
      "Slope (β1): -1.0\n",
      "Intercept (β0): 110.0\n",
      "Regression Line: y = 110.00 + -1.00x\n"
     ]
    }
   ],
   "source": [
    "import pandas as pd\n",
    "\n",
    "# Example data: Price (x) and Quantity (y)\n",
    "data = {\n",
    "    \"price\": [10, 20, 30, 40, 50],\n",
    "    \"quantity\": [100, 90, 80, 70, 60]\n",
    "}\n",
    "df = pd.DataFrame(data)\n",
    "\n",
    "# Step 1: Calculate required sums\n",
    "xy = (df[\"price\"] * df[\"quantity\"]).sum()  # Sum of xy\n",
    "x = df[\"price\"].sum()                      # Sum of x\n",
    "y = df[\"quantity\"].sum()                   # Sum of y\n",
    "x1 = (df[\"price\"]**2).sum()                # Sum of x^2\n",
    "x2 = (df[\"price\"].sum())**2                # Square of sum of x\n",
    "n = len(df)                                # Number of data points\n",
    "\n",
    "# Step 2: Calculate slope (β1)\n",
    "slope = ((n * xy) - (x * y)) / ((n * x1) - x2)\n",
    "print(\"Slope (β1):\", slope)\n",
    "\n",
    "# Step 3: Calculate intercept (β0)\n",
    "intercept = (y - slope * x) / n\n",
    "print(\"Intercept (β0):\", intercept)\n",
    "\n",
    "# Step 4: Display the regression equation\n",
    "print(f\"Regression Line: y = {intercept:.2f} + {slope:.2f}x\")\n"
   ]
  },
  {
   "cell_type": "markdown",
   "id": "00bae46f-ee0e-4143-8abf-961525e81028",
   "metadata": {},
   "source": [
    "Karl"
   ]
  },
  {
   "cell_type": "code",
   "execution_count": 189,
   "id": "42adc59f-ea54-45dc-98d8-7fea06d24f98",
   "metadata": {},
   "outputs": [
    {
     "name": "stdout",
     "output_type": "stream",
     "text": [
      "Pearson Correlation test:\n",
      "Correlation coefficient\n",
      "p- value: 0.0\n",
      "The data is correlated (reject H0). \n"
     ]
    }
   ],
   "source": [
    "import numpy as np\n",
    "from scipy.stats import pearsonr\n",
    "\n",
    "# Example data\n",
    "x = [1,2,3,4,5]\n",
    "y = [2,4,6,8,10]\n",
    "# pearson correlation\n",
    "r,p = pearsonr(x,y)\n",
    "\n",
    "print(\"Pearson Correlation test:\")\n",
    "print(\"Correlation coefficient\")\n",
    "print(\"p- value:\",p)\n",
    "\n",
    "#Interpretation\n",
    "if p > 0.05:\n",
    "  print(\"The data is likely not correlated (fail to reject H0). \")\n",
    "else:\n",
    "  print(\"The data is correlated (reject H0). \")"
   ]
  },
  {
   "cell_type": "markdown",
   "id": "1bdc7a30-e924-4f57-b675-70aff8fd0e58",
   "metadata": {},
   "source": [
    "Spearman"
   ]
  },
  {
   "cell_type": "code",
   "execution_count": 191,
   "id": "127427af-be50-4c8b-923e-67a51267d963",
   "metadata": {},
   "outputs": [
    {
     "name": "stdout",
     "output_type": "stream",
     "text": [
      "spearman Correlation Test:\n",
      "Correlation Coefficinet (p): 0.8207826816681233\n",
      "p- vlaue: 0.08858700531354381\n",
      "the data i likely  not correlated (fail to reject H0).\n"
     ]
    }
   ],
   "source": [
    "from scipy.stats import spearmanr\n",
    "\n",
    "#Example Data\n",
    "x = [1,2,3,4,5]\n",
    "y = [5,6,7,8,7]\n",
    "#Spearman Correlation\n",
    "rho, p = spearmanr(x,y)\n",
    "\n",
    "print(\"spearman Correlation Test:\")\n",
    "print(\"Correlation Coefficinet (p):\", rho)\n",
    "print(f\"p- vlaue:\",p)\n",
    "#interception\n",
    "if p>0.05:\n",
    "   print(\"the data i likely  not correlated (fail to reject H0).\")\n",
    "else:\n",
    "  print(\"The data is correlated (reject H0).\")"
   ]
  },
  {
   "cell_type": "markdown",
   "id": "c746f9e6-ebd0-4673-8f72-25377da0b942",
   "metadata": {},
   "source": [
    "Use Pearson when you expect a linear relationship and data meets the normality assumption.\n",
    "Use Spearman when the relationship is monotonic, not necessarily linear, or the data is ordinal or not normally distributed."
   ]
  },
  {
   "cell_type": "markdown",
   "id": "85f2e786-5e81-4d4f-853c-d4473d268bb7",
   "metadata": {},
   "source": [
    "Shapiro"
   ]
  },
  {
   "cell_type": "code",
   "execution_count": 193,
   "id": "91a93123-f815-428d-9341-8f5e06c1222d",
   "metadata": {},
   "outputs": [
    {
     "name": "stdout",
     "output_type": "stream",
     "text": [
      "Shapiro-Wilk Test:\n",
      "Test Statistic: 0.9404069010757281\n",
      "p-value: 0.586188338882565\n",
      "Data is normally distributed (fail to reject H₀).\n"
     ]
    }
   ],
   "source": [
    "from scipy.stats import shapiro\n",
    "\n",
    "# Example data\n",
    "data = [12, 15, 14, 16, 15, 14, 13, 15, 14]\n",
    "\n",
    "# Perform Shapiro-Wilk test\n",
    "stat, p_value = shapiro(data)\n",
    "\n",
    "print(\"Shapiro-Wilk Test:\")\n",
    "print(\"Test Statistic:\", stat)\n",
    "print(\"p-value:\", p_value)\n",
    "\n",
    "# Interpretation\n",
    "alpha = 0.05\n",
    "if p_value > alpha:\n",
    "    print(\"Data is normally distributed (fail to reject H₀).\")\n",
    "else:\n",
    "    print(\"Data is not normally distributed (reject H₀).\")\n"
   ]
  },
  {
   "cell_type": "code",
   "execution_count": 195,
   "id": "6adddf08-97ce-4dcf-9fc8-c7498f0a6aa3",
   "metadata": {},
   "outputs": [
    {
     "name": "stdout",
     "output_type": "stream",
     "text": [
      "Normality Test (D'Agostino and Pearson):\n",
      "Test Statistic: 0.7349836393513778\n",
      "p-value: 0.6924689914063993\n",
      "Data is normally distributed (fail to reject H₀).\n"
     ]
    },
    {
     "name": "stderr",
     "output_type": "stream",
     "text": [
      "C:\\Users\\Sumit\\anaconda3\\Lib\\site-packages\\scipy\\stats\\_axis_nan_policy.py:531: UserWarning: kurtosistest only valid for n>=20 ... continuing anyway, n=9\n",
      "  res = hypotest_fun_out(*samples, **kwds)\n"
     ]
    }
   ],
   "source": [
    "from scipy.stats import normaltest\n",
    "\n",
    "# Example data\n",
    "data = [12, 15, 14, 16, 15, 14, 13, 15, 14]\n",
    "\n",
    "# Perform D'Agostino and Pearson's normality test\n",
    "stat, p_value = normaltest(data)\n",
    "\n",
    "print(\"Normality Test (D'Agostino and Pearson):\")\n",
    "print(\"Test Statistic:\", stat)\n",
    "print(\"p-value:\", p_value)\n",
    "\n",
    "# Interpretation\n",
    "alpha = 0.05\n",
    "if p_value > alpha:\n",
    "    print(\"Data is normally distributed (fail to reject H₀).\")\n",
    "else:\n",
    "    print(\"Data is not normally distributed (reject H₀).\")\n"
   ]
  }
 ],
 "metadata": {
  "kernelspec": {
   "display_name": "Python [conda env:base] *",
   "language": "python",
   "name": "conda-base-py"
  },
  "language_info": {
   "codemirror_mode": {
    "name": "ipython",
    "version": 3
   },
   "file_extension": ".py",
   "mimetype": "text/x-python",
   "name": "python",
   "nbconvert_exporter": "python",
   "pygments_lexer": "ipython3",
   "version": "3.12.7"
  }
 },
 "nbformat": 4,
 "nbformat_minor": 5
}
