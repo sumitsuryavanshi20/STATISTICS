{
 "cells": [
  {
   "cell_type": "code",
   "execution_count": 7,
   "id": "00a28614-e753-480e-bd75-7ad9c58db6dc",
   "metadata": {},
   "outputs": [],
   "source": [
    "import numpy as np \n",
    "import pandas as pd\n",
    "import matplotlib.pyplot as plt\n",
    "import seaborn as sns"
   ]
  },
  {
   "cell_type": "code",
   "execution_count": 9,
   "id": "55e4dab6-4de6-4b0d-a9a1-9d994325a56d",
   "metadata": {},
   "outputs": [
    {
     "data": {
      "text/plain": [
       "3.0"
      ]
     },
     "execution_count": 9,
     "metadata": {},
     "output_type": "execute_result"
    }
   ],
   "source": [
    "x = np.array([1,2,3,4,5])\n",
    "np.sum(x)/len(x)\n",
    "x.mean()#second way to find mean "
   ]
  },
  {
   "cell_type": "code",
   "execution_count": null,
   "id": "844823d7-98b7-4cfc-abee-6fdaa4711c61",
   "metadata": {},
   "outputs": [],
   "source": [
    "x = pd.read_csv(\"Titanic-Dataset.csv\")\n",
    "x"
   ]
  },
  {
   "cell_type": "code",
   "execution_count": null,
   "id": "f31bee48-ce32-475d-8d79-066b2232cf72",
   "metadata": {},
   "outputs": [],
   "source": [
    "x.head()"
   ]
  },
  {
   "cell_type": "code",
   "execution_count": null,
   "id": "99e3bdb4-fa3f-47b5-8426-806f19edc770",
   "metadata": {},
   "outputs": [],
   "source": [
    "x.isnull()#to check null value"
   ]
  },
  {
   "cell_type": "code",
   "execution_count": null,
   "id": "d0c8b284-2d7d-4238-bfa0-968bdfd1ddc8",
   "metadata": {},
   "outputs": [],
   "source": [
    "mean  = x[\"Age\"].mean()\n",
    "mean"
   ]
  },
  {
   "cell_type": "code",
   "execution_count": null,
   "id": "9a17499c-86c4-4aa7-8255-d57270d3c19a",
   "metadata": {},
   "outputs": [],
   "source": [
    "median =x[\"Age\"].median()\n",
    "median\n",
    "#np.median(x[\"Age\"])"
   ]
  },
  {
   "cell_type": "code",
   "execution_count": null,
   "id": "15faa045-e017-4b23-bc84-089363efa8db",
   "metadata": {},
   "outputs": [],
   "source": [
    "mode = x[\"Age\"].mode()\n",
    "mode\n",
    "#mode = x[\"Fare\"].value_counts()\n",
    "#mode"
   ]
  },
  {
   "cell_type": "code",
   "execution_count": null,
   "id": "1dfa6079-bfb7-4ebf-bbce-522f32362271",
   "metadata": {},
   "outputs": [],
   "source": [
    "sns.displot(x[\"Age\"],bins=[10,20,30,40,50,60,70,80,90,100])\n",
    "plt.plot(mean)\n",
    "plt.show()"
   ]
  },
  {
   "cell_type": "code",
   "execution_count": null,
   "id": "d9c3c5c3-e80f-4030-97e3-0c0cedf51458",
   "metadata": {},
   "outputs": [],
   "source": [
    "#Range\n",
    "Min =x[\"Age\"].min()\n",
    "Max =x[\"Age\"].max()\n",
    "Min,Max"
   ]
  },
  {
   "cell_type": "code",
   "execution_count": null,
   "id": "73a3abc2-1870-42cb-9b90-075374b19d41",
   "metadata": {},
   "outputs": [],
   "source": [
    "range = Min - Max\n",
    "range"
   ]
  },
  {
   "cell_type": "code",
   "execution_count": null,
   "id": "83139a3a-44b5-47f8-a5cf-25d1dc7f792c",
   "metadata": {},
   "outputs": [],
   "source": [
    "#Variance\n",
    "variance = x[\"Age\"].var()\n",
    "variance"
   ]
  },
  {
   "cell_type": "code",
   "execution_count": null,
   "id": "4724e730-cfa5-453a-922d-6cc4450a2103",
   "metadata": {},
   "outputs": [],
   "source": [
    "#Standard\n",
    "SD = x[\"Age\"].std()\n",
    "SD"
   ]
  },
  {
   "cell_type": "code",
   "execution_count": null,
   "id": "681c16da-de67-45c3-b518-a4338b9f858d",
   "metadata": {},
   "outputs": [],
   "source": [
    "sns.histplot(x=\"Age\", data=x)"
   ]
  },
  {
   "cell_type": "code",
   "execution_count": null,
   "id": "4d912a6d-70e3-4116-8d43-270d62ed22eb",
   "metadata": {},
   "outputs": [],
   "source": [
    "x.describe()"
   ]
  },
  {
   "cell_type": "code",
   "execution_count": null,
   "id": "dc3392ed-5b4d-4a7c-9ff0-cbbed48efd6e",
   "metadata": {},
   "outputs": [],
   "source": [
    "x = [20, 25, 30, 35, 40]  # Replace with your actual dataset of ages\n",
    "percentile_25 = np.percentile(x, 25)  # Calculate the 25th percentile\n",
    "print(percentile_25)"
   ]
  },
  {
   "cell_type": "code",
   "execution_count": null,
   "id": "862b7e52-981c-4a1b-8a57-b497868801a0",
   "metadata": {},
   "outputs": [],
   "source": [
    "sns.boxplot(x=\"Fare\",data=x)\n",
    "plt.show()"
   ]
  },
  {
   "cell_type": "code",
   "execution_count": null,
   "id": "886b0ea1-0c9a-4962-b8b1-a8c07fc39fc8",
   "metadata": {},
   "outputs": [],
   "source": [
    "#skewness"
   ]
  },
  {
   "cell_type": "code",
   "execution_count": null,
   "id": "18031044-d7d5-444a-b90f-02d4e0caa50d",
   "metadata": {},
   "outputs": [],
   "source": [
    "skew = x[\"Age\"].skew()\n",
    "skew"
   ]
  },
  {
   "cell_type": "code",
   "execution_count": null,
   "id": "3143a51d-0cbd-4ffc-865b-fb5d54b52a8d",
   "metadata": {},
   "outputs": [],
   "source": [
    "#Positive skew \n",
    "sns.histplot(x=\"Age\",data=x)"
   ]
  },
  {
   "cell_type": "code",
   "execution_count": null,
   "id": "e0b740d0-c7a0-4da8-8ff5-abba5160d546",
   "metadata": {},
   "outputs": [],
   "source": [
    "#negative skew\n",
    "data = np.random.normal(0,100,100)"
   ]
  },
  {
   "cell_type": "code",
   "execution_count": null,
   "id": "f6f9bab3-a3c3-4487-b6e6-12d9aa0a10b1",
   "metadata": {},
   "outputs": [],
   "source": [
    "df = pd.DataFrame({\"x\":data})\n",
    "df[\"x\"].skew()"
   ]
  },
  {
   "cell_type": "code",
   "execution_count": null,
   "id": "fa876361-6259-4db8-b5e4-52ffd96bb10b",
   "metadata": {},
   "outputs": [],
   "source": [
    "sns.histplot(x=\"x\",data=df)\n",
    "plt.show()"
   ]
  },
  {
   "cell_type": "code",
   "execution_count": null,
   "id": "7bd41622-86f1-42c1-b625-090c8114c3b7",
   "metadata": {},
   "outputs": [],
   "source": [
    "#nomral distribution \n",
    "data = [2,3,3,4,4,4,5,5,5,5,5,6,6,6,6,6,6,7,7,7,7,7,7,8,8,8,8,8,9,9,9,9,10,10,10,11,11,12]\n",
    "df = pd.DataFrame({\"x\":data})\n",
    "df[\"x\"].skew()"
   ]
  },
  {
   "cell_type": "code",
   "execution_count": null,
   "id": "4688d3cb-7b6b-49ba-8f38-4721a52c26bd",
   "metadata": {},
   "outputs": [],
   "source": [
    "sns.histplot(x=\"x\",data=df)\n",
    "plt.show()"
   ]
  },
  {
   "cell_type": "code",
   "execution_count": null,
   "id": "e9c9d9ac-0ecb-44b4-8d2a-3ccb33da8a1f",
   "metadata": {},
   "outputs": [],
   "source": [
    "#in normal distribution mean median mode will be same \n",
    "df[\"x\"].mean()"
   ]
  },
  {
   "cell_type": "code",
   "execution_count": null,
   "id": "b3091c23-85fe-4619-81a8-9ecb74f6efed",
   "metadata": {},
   "outputs": [],
   "source": [
    "df[\"x\"].median()"
   ]
  },
  {
   "cell_type": "code",
   "execution_count": null,
   "id": "7eb0f11f-ba6e-404f-9ddf-e1fe95fb4bac",
   "metadata": {},
   "outputs": [],
   "source": [
    "df[\"x\"].mode()"
   ]
  },
  {
   "cell_type": "code",
   "execution_count": null,
   "id": "77c58ce8-eccb-41d0-969d-93be105a4894",
   "metadata": {},
   "outputs": [],
   "source": [
    "x = pd.read_csv(\"Titanic-Dataset.csv\")\n",
    "x"
   ]
  }
 ],
 "metadata": {
  "kernelspec": {
   "display_name": "Python [conda env:base] *",
   "language": "python",
   "name": "conda-base-py"
  },
  "language_info": {
   "codemirror_mode": {
    "name": "ipython",
    "version": 3
   },
   "file_extension": ".py",
   "mimetype": "text/x-python",
   "name": "python",
   "nbconvert_exporter": "python",
   "pygments_lexer": "ipython3",
   "version": "3.12.7"
  }
 },
 "nbformat": 4,
 "nbformat_minor": 5
}
